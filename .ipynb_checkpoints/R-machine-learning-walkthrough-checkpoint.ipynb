{
 "cells": [
  {
   "cell_type": "markdown",
   "metadata": {},
   "source": [
    "# Betfair Data Scientists' Australian Open Model\n",
    "\n",
    "## Overview\n",
    "### The Task\n",
    "This notebook will outline how the Betfair Data Scientists went about modelling the Australian Open for Betfair's Australian Open Datathon. The task is simple: we ask you to predict the winner of every possible Australian Open matchup using data which we provide.\n",
    "\n",
    "Note that this notebook will only outline the process for predicting the mens tournament, but to enter a valid submission to the tournament you must submit both a mens and womens submissions.\n",
    "\n",
    "The metric used to determine the winner will be log loss, based on the actual matchups that happen in the Open. For more information on log loss, click [here](http://wiki.fast.ai/index.php/Log_Loss).\n",
    "\n",
    "For a detailed outline of the task, the prizes, and to sign up, click [here](https://www.betfair.com.au/hub/australian-open-datathon/).\n",
    "\n",
    "How an outline of our methodoly and thought process, read [this](https://www.betfair.com.au/hub/betfairs-aus-open-datathon-how-to-build-a-model/) article.\n",
    "\n",
    "\n",
    "### Submission\n",
    "* To submit your model, email your final submission to datathon@betfair.com.au. Note that you don't need to email your code, just your predictions in the format that we have specified\n",
    "* No submissions will be accepted prior to the Australian Open qualifying matches being completed and the final draw list being shared with registered participants (12 January 2019)\n",
    "* Submissions need to include all potential match ups during the Australian Open, i.e. all possible combinations for each men's and women's tournaments (this will be provided after the draw is announced and the Australian Open qualifying matches are completed (Jan 12th 2019))\n",
    "* Submissions must follow the format outlined above and shown in the 'Dummy Submission File'. Any submissions that are not in the correct format will not be accepted.\n",
    "* Submissions need to include the player names for the hypothetical match up and the probability of the first player winning\n",
    "i.e. player_1,player_2,probability_of_player_1_winning,\n",
    "* Submissions must be in a csv format\n",
    "* Only two models will be accepted per participant (one model for the men's draw, one model for the women's draw)\n",
    "\n",
    "## Exploring the Data\n",
    "First we need to get an idea of what the data looks like. Let's read the men's data in and get an idea of what it looks like. Note that you will need to install all the packages listed below unless you already have them.\n",
    "\n",
    "Note that for this tutorial I will be using `dplyr`, if you are not familiar with the syntax I encourage you to read up on [the basics](https://cran.r-project.org/web/packages/dplyr/vignettes/dplyr.html)."
   ]
  },
  {
   "cell_type": "code",
   "execution_count": 4,
   "metadata": {},
   "outputs": [
    {
     "name": "stderr",
     "output_type": "stream",
     "text": [
      "Parsed with column specification:\n",
      "cols(\n",
      "  .default = col_integer(),\n",
      "  Winner = col_character(),\n",
      "  Loser = col_character(),\n",
      "  Tournament = col_character(),\n",
      "  Tournament_Date = col_character(),\n",
      "  Court_Surface = col_character(),\n",
      "  Round_Description = col_character()\n",
      ")\n",
      "See spec(...) for full column specifications.\n"
     ]
    },
    {
     "data": {
      "text/html": [
       "<table>\n",
       "<thead><tr><th scope=col>Winner</th><th scope=col>Loser</th><th scope=col>Tournament</th><th scope=col>Tournament_Date</th><th scope=col>Court_Surface</th><th scope=col>Round_Description</th><th scope=col>Winner_Rank</th><th scope=col>Loser_Rank</th><th scope=col>Retirement_Ind</th><th scope=col>Winner_Sets_Won</th><th scope=col>...</th><th scope=col>Loser_DoubleFaults</th><th scope=col>Loser_FirstServes_Won</th><th scope=col>Loser_FirstServes_In</th><th scope=col>Loser_SecondServes_Won</th><th scope=col>Loser_SecondServes_In</th><th scope=col>Loser_BreakPoints_Won</th><th scope=col>Loser_BreakPoints</th><th scope=col>Loser_ReturnPoints_Won</th><th scope=col>Loser_ReturnPoints_Faced</th><th scope=col>Loser_TotalPoints_Won</th></tr></thead>\n",
       "<tbody>\n",
       "\t<tr><td>Edouard Roger-Vasselin</td><td>Eric Prodon           </td><td>Chennai               </td><td>02-Jan-12             </td><td>Hard                  </td><td>First Round           </td><td>106                   </td><td> 97                   </td><td>0                     </td><td>2                     </td><td>...                   </td><td>3                     </td><td>21                    </td><td>33                    </td><td>13                    </td><td>26                    </td><td>1                     </td><td>3                     </td><td>15                    </td><td> 49                   </td><td>49                    </td></tr>\n",
       "\t<tr><td>Dudi Sela             </td><td>Fabio Fognini         </td><td>Chennai               </td><td>02-Jan-12             </td><td>Hard                  </td><td>First Round           </td><td> 83                   </td><td> 48                   </td><td>0                     </td><td>2                     </td><td>...                   </td><td>4                     </td><td>17                    </td><td>32                    </td><td> 5                    </td><td>26                    </td><td>0                     </td><td>1                     </td><td> 8                    </td><td> 33                   </td><td>30                    </td></tr>\n",
       "\t<tr><td>Go Soeda              </td><td>Frederico Gil         </td><td>Chennai               </td><td>02-Jan-12             </td><td>Hard                  </td><td>First Round           </td><td>120                   </td><td>102                   </td><td>0                     </td><td>2                     </td><td>...                   </td><td>2                     </td><td>45                    </td><td>70                    </td><td>18                    </td><td>35                    </td><td>2                     </td><td>4                     </td><td>36                    </td><td>103                   </td><td>99                    </td></tr>\n",
       "\t<tr><td>Yuki Bhambri          </td><td>Karol Beck            </td><td>Chennai               </td><td>02-Jan-12             </td><td>Hard                  </td><td>First Round           </td><td>345                   </td><td>101                   </td><td>0                     </td><td>2                     </td><td>...                   </td><td>1                     </td><td>15                    </td><td>33                    </td><td>13                    </td><td>29                    </td><td>2                     </td><td>3                     </td><td>15                    </td><td> 46                   </td><td>43                    </td></tr>\n",
       "\t<tr><td>Yuichi Sugita         </td><td>Olivier Rochus        </td><td>Chennai               </td><td>02-Jan-12             </td><td>Hard                  </td><td>First Round           </td><td>235                   </td><td> 67                   </td><td>0                     </td><td>2                     </td><td>...                   </td><td>0                     </td><td>19                    </td><td>32                    </td><td>13                    </td><td>22                    </td><td>1                     </td><td>7                     </td><td>30                    </td><td> 78                   </td><td>62                    </td></tr>\n",
       "\t<tr><td>Benoit Paire          </td><td>Pere Riba             </td><td>Chennai               </td><td>02-Jan-12             </td><td>Hard                  </td><td>First Round           </td><td> 95                   </td><td> 89                   </td><td>0                     </td><td>2                     </td><td>...                   </td><td>5                     </td><td>13                    </td><td>20                    </td><td>12                    </td><td>32                    </td><td>0                     </td><td>1                     </td><td> 9                    </td><td> 44                   </td><td>34                    </td></tr>\n",
       "</tbody>\n",
       "</table>\n"
      ],
      "text/latex": [
       "\\begin{tabular}{r|lllllllllllllllllllllllllllllllllll}\n",
       " Winner & Loser & Tournament & Tournament\\_Date & Court\\_Surface & Round\\_Description & Winner\\_Rank & Loser\\_Rank & Retirement\\_Ind & Winner\\_Sets\\_Won & ... & Loser\\_DoubleFaults & Loser\\_FirstServes\\_Won & Loser\\_FirstServes\\_In & Loser\\_SecondServes\\_Won & Loser\\_SecondServes\\_In & Loser\\_BreakPoints\\_Won & Loser\\_BreakPoints & Loser\\_ReturnPoints\\_Won & Loser\\_ReturnPoints\\_Faced & Loser\\_TotalPoints\\_Won\\\\\n",
       "\\hline\n",
       "\t Edouard Roger-Vasselin & Eric Prodon            & Chennai                & 02-Jan-12              & Hard                   & First Round            & 106                    &  97                    & 0                      & 2                      & ...                    & 3                      & 21                     & 33                     & 13                     & 26                     & 1                      & 3                      & 15                     &  49                    & 49                    \\\\\n",
       "\t Dudi Sela              & Fabio Fognini          & Chennai                & 02-Jan-12              & Hard                   & First Round            &  83                    &  48                    & 0                      & 2                      & ...                    & 4                      & 17                     & 32                     &  5                     & 26                     & 0                      & 1                      &  8                     &  33                    & 30                    \\\\\n",
       "\t Go Soeda               & Frederico Gil          & Chennai                & 02-Jan-12              & Hard                   & First Round            & 120                    & 102                    & 0                      & 2                      & ...                    & 2                      & 45                     & 70                     & 18                     & 35                     & 2                      & 4                      & 36                     & 103                    & 99                    \\\\\n",
       "\t Yuki Bhambri           & Karol Beck             & Chennai                & 02-Jan-12              & Hard                   & First Round            & 345                    & 101                    & 0                      & 2                      & ...                    & 1                      & 15                     & 33                     & 13                     & 29                     & 2                      & 3                      & 15                     &  46                    & 43                    \\\\\n",
       "\t Yuichi Sugita          & Olivier Rochus         & Chennai                & 02-Jan-12              & Hard                   & First Round            & 235                    &  67                    & 0                      & 2                      & ...                    & 0                      & 19                     & 32                     & 13                     & 22                     & 1                      & 7                      & 30                     &  78                    & 62                    \\\\\n",
       "\t Benoit Paire           & Pere Riba              & Chennai                & 02-Jan-12              & Hard                   & First Round            &  95                    &  89                    & 0                      & 2                      & ...                    & 5                      & 13                     & 20                     & 12                     & 32                     & 0                      & 1                      &  9                     &  44                    & 34                    \\\\\n",
       "\\end{tabular}\n"
      ],
      "text/markdown": [
       "\n",
       "Winner | Loser | Tournament | Tournament_Date | Court_Surface | Round_Description | Winner_Rank | Loser_Rank | Retirement_Ind | Winner_Sets_Won | ... | Loser_DoubleFaults | Loser_FirstServes_Won | Loser_FirstServes_In | Loser_SecondServes_Won | Loser_SecondServes_In | Loser_BreakPoints_Won | Loser_BreakPoints | Loser_ReturnPoints_Won | Loser_ReturnPoints_Faced | Loser_TotalPoints_Won | \n",
       "|---|---|---|---|---|---|\n",
       "| Edouard Roger-Vasselin | Eric Prodon            | Chennai                | 02-Jan-12              | Hard                   | First Round            | 106                    |  97                    | 0                      | 2                      | ...                    | 3                      | 21                     | 33                     | 13                     | 26                     | 1                      | 3                      | 15                     |  49                    | 49                     | \n",
       "| Dudi Sela              | Fabio Fognini          | Chennai                | 02-Jan-12              | Hard                   | First Round            |  83                    |  48                    | 0                      | 2                      | ...                    | 4                      | 17                     | 32                     |  5                     | 26                     | 0                      | 1                      |  8                     |  33                    | 30                     | \n",
       "| Go Soeda               | Frederico Gil          | Chennai                | 02-Jan-12              | Hard                   | First Round            | 120                    | 102                    | 0                      | 2                      | ...                    | 2                      | 45                     | 70                     | 18                     | 35                     | 2                      | 4                      | 36                     | 103                    | 99                     | \n",
       "| Yuki Bhambri           | Karol Beck             | Chennai                | 02-Jan-12              | Hard                   | First Round            | 345                    | 101                    | 0                      | 2                      | ...                    | 1                      | 15                     | 33                     | 13                     | 29                     | 2                      | 3                      | 15                     |  46                    | 43                     | \n",
       "| Yuichi Sugita          | Olivier Rochus         | Chennai                | 02-Jan-12              | Hard                   | First Round            | 235                    |  67                    | 0                      | 2                      | ...                    | 0                      | 19                     | 32                     | 13                     | 22                     | 1                      | 7                      | 30                     |  78                    | 62                     | \n",
       "| Benoit Paire           | Pere Riba              | Chennai                | 02-Jan-12              | Hard                   | First Round            |  95                    |  89                    | 0                      | 2                      | ...                    | 5                      | 13                     | 20                     | 12                     | 32                     | 0                      | 1                      |  9                     |  44                    | 34                     | \n",
       "\n",
       "\n"
      ],
      "text/plain": [
       "  Winner                 Loser          Tournament Tournament_Date\n",
       "1 Edouard Roger-Vasselin Eric Prodon    Chennai    02-Jan-12      \n",
       "2 Dudi Sela              Fabio Fognini  Chennai    02-Jan-12      \n",
       "3 Go Soeda               Frederico Gil  Chennai    02-Jan-12      \n",
       "4 Yuki Bhambri           Karol Beck     Chennai    02-Jan-12      \n",
       "5 Yuichi Sugita          Olivier Rochus Chennai    02-Jan-12      \n",
       "6 Benoit Paire           Pere Riba      Chennai    02-Jan-12      \n",
       "  Court_Surface Round_Description Winner_Rank Loser_Rank Retirement_Ind\n",
       "1 Hard          First Round       106          97        0             \n",
       "2 Hard          First Round        83          48        0             \n",
       "3 Hard          First Round       120         102        0             \n",
       "4 Hard          First Round       345         101        0             \n",
       "5 Hard          First Round       235          67        0             \n",
       "6 Hard          First Round        95          89        0             \n",
       "  Winner_Sets_Won ... Loser_DoubleFaults Loser_FirstServes_Won\n",
       "1 2               ... 3                  21                   \n",
       "2 2               ... 4                  17                   \n",
       "3 2               ... 2                  45                   \n",
       "4 2               ... 1                  15                   \n",
       "5 2               ... 0                  19                   \n",
       "6 2               ... 5                  13                   \n",
       "  Loser_FirstServes_In Loser_SecondServes_Won Loser_SecondServes_In\n",
       "1 33                   13                     26                   \n",
       "2 32                    5                     26                   \n",
       "3 70                   18                     35                   \n",
       "4 33                   13                     29                   \n",
       "5 32                   13                     22                   \n",
       "6 20                   12                     32                   \n",
       "  Loser_BreakPoints_Won Loser_BreakPoints Loser_ReturnPoints_Won\n",
       "1 1                     3                 15                    \n",
       "2 0                     1                  8                    \n",
       "3 2                     4                 36                    \n",
       "4 2                     3                 15                    \n",
       "5 1                     7                 30                    \n",
       "6 0                     1                  9                    \n",
       "  Loser_ReturnPoints_Faced Loser_TotalPoints_Won\n",
       "1  49                      49                   \n",
       "2  33                      30                   \n",
       "3 103                      99                   \n",
       "4  46                      43                   \n",
       "5  78                      62                   \n",
       "6  44                      34                   "
      ]
     },
     "metadata": {},
     "output_type": "display_data"
    }
   ],
   "source": [
    "# Import libraries\n",
    "library(dplyr)\n",
    "library(readr)\n",
    "library(tidyr)\n",
    "library(RcppRoll)\n",
    "library(tidyselect)\n",
    "library(lubridate)\n",
    "library(stringr)\n",
    "library(zoo)\n",
    "library(purrr)\n",
    "library(h2o)\n",
    "options(warn=-1)\n",
    "\n",
    "mens = readr::read_csv('data/ATP_matches_Jan_10.csv', na = \".\") # NAs are indicated by .\n",
    "\n",
    "mens %>% head()"
   ]
  },
  {
   "cell_type": "markdown",
   "metadata": {},
   "source": [
    "As we can see, we have a `Winner` column, a `Loser` column, as well as other columns detailing the match details, and other columns which have the stats for that match. As we have a `Winner` column, if we use the current data structure to train a model we will leak the result. The model will simply learn that the actual winner comes from the `Winner` column, rather than learning from other features that we can create, such as `First Serve %`.\n",
    "\n",
    "To avoid this problem, let's reshape the data from wide to long, then shuffle the data. For this, we will define a function, `split_winner_loser_columns`, which splits the raw dataframe into two dataframes, appends them together, and then shuffles the data.\n",
    "\n",
    "Let's also remove all Grass and Clay matches from our data, as we will be modelling the Australian Open which is a hardcourt surface.\n",
    "\n",
    "Additionally, we will add a few columns, such as `Match_Id` and `Total_Games`. These will be useful later."
   ]
  },
  {
   "cell_type": "code",
   "execution_count": 5,
   "metadata": {},
   "outputs": [],
   "source": [
    "split_winner_loser_columns <- function(df) {\n",
    "  # This function splits the raw data into two dataframes and appends them together then shuffles them\n",
    "  # This output is a dataframe with only one player's stats on each row (i.e. in long format)\n",
    "  \n",
    "  # Grab a df with only the Winner's stats\n",
    "  winner = df %>% \n",
    "    select(-contains(\"Loser\")) %>% # Select only the Winner columns + extra game info columns as a df\n",
    "    rename_at( # Rename all columns containing \"Winner\" to \"Player\" \n",
    "      vars(contains(\"Winner\")),\n",
    "      ~str_replace(., \"Winner\", \"Player\")\n",
    "    ) %>%\n",
    "    mutate(Winner = 1) # Create a target column\n",
    "  \n",
    "  # Repeat the process with the loser's stats\n",
    "  loser = df %>%\n",
    "    select(-contains(\"Winner\")) %>%\n",
    "    rename_at(\n",
    "      vars(contains(\"Loser\")),\n",
    "      ~str_replace(., \"Loser\", \"Player\")\n",
    "    ) %>%\n",
    "    mutate(Winner = 0)\n",
    "  \n",
    "  set.seed(183) # Set seed to replicate results - 183 is the most games played in a tennis match (Isner-Mahut)\n",
    "  \n",
    "  # Create a df that appends both the Winner and loser df together\n",
    "  combined_df = winner %>% \n",
    "    rbind(loser) %>% # Append the loser df to the Winner df\n",
    "    slice(sample(1:n())) %>% # Randomise row order\n",
    "    arrange(Match_Id) %>% # Arrange by Match_Id\n",
    "    return()\n",
    "}"
   ]
  },
  {
   "cell_type": "code",
   "execution_count": 6,
   "metadata": {},
   "outputs": [
    {
     "name": "stderr",
     "output_type": "stream",
     "text": [
      "Parsed with column specification:\n",
      "cols(\n",
      "  .default = col_integer(),\n",
      "  Winner = col_character(),\n",
      "  Loser = col_character(),\n",
      "  Tournament = col_character(),\n",
      "  Tournament_Date = col_character(),\n",
      "  Court_Surface = col_character(),\n",
      "  Round_Description = col_character()\n",
      ")\n",
      "See spec(...) for full column specifications.\n"
     ]
    },
    {
     "data": {
      "text/html": [
       "<table>\n",
       "<thead><tr><th scope=col>Player</th><th scope=col>Tournament</th><th scope=col>Tournament_Date</th><th scope=col>Court_Surface</th><th scope=col>Round_Description</th><th scope=col>Player_Rank</th><th scope=col>Retirement_Ind</th><th scope=col>Player_Sets_Won</th><th scope=col>Player_Games_Won</th><th scope=col>Player_Aces</th><th scope=col>...</th><th scope=col>Player_SecondServes_Won</th><th scope=col>Player_SecondServes_In</th><th scope=col>Player_BreakPoints_Won</th><th scope=col>Player_BreakPoints</th><th scope=col>Player_ReturnPoints_Won</th><th scope=col>Player_ReturnPoints_Faced</th><th scope=col>Player_TotalPoints_Won</th><th scope=col>Match_Id</th><th scope=col>Total_Games</th><th scope=col>Winner</th></tr></thead>\n",
       "<tbody>\n",
       "\t<tr><td>Edouard Roger-Vasselin</td><td>Chennai               </td><td>2012-01-02            </td><td>Hard                  </td><td>First Round           </td><td>106                   </td><td>0                     </td><td>2                     </td><td>12                    </td><td>5                     </td><td>...                   </td><td>12                    </td><td>19                    </td><td>4                     </td><td> 7                    </td><td>25                    </td><td> 59                   </td><td> 59                   </td><td>1                     </td><td>19                    </td><td>1                     </td></tr>\n",
       "\t<tr><td>Eric Prodon           </td><td>Chennai               </td><td>2012-01-02            </td><td>Hard                  </td><td>First Round           </td><td> 97                   </td><td>0                     </td><td>0                     </td><td> 7                    </td><td>2                     </td><td>...                   </td><td>13                    </td><td>26                    </td><td>1                     </td><td> 3                    </td><td>15                    </td><td> 49                   </td><td> 49                   </td><td>1                     </td><td>19                    </td><td>0                     </td></tr>\n",
       "\t<tr><td>Dudi Sela             </td><td>Chennai               </td><td>2012-01-02            </td><td>Hard                  </td><td>First Round           </td><td> 83                   </td><td>0                     </td><td>2                     </td><td>12                    </td><td>2                     </td><td>...                   </td><td>11                    </td><td>16                    </td><td>6                     </td><td>14                    </td><td>36                    </td><td> 58                   </td><td> 61                   </td><td>2                     </td><td>13                    </td><td>1                     </td></tr>\n",
       "\t<tr><td>Fabio Fognini         </td><td>Chennai               </td><td>2012-01-02            </td><td>Hard                  </td><td>First Round           </td><td> 48                   </td><td>0                     </td><td>0                     </td><td> 1                    </td><td>1                     </td><td>...                   </td><td> 5                    </td><td>26                    </td><td>0                     </td><td> 1                    </td><td> 8                    </td><td> 33                   </td><td> 30                   </td><td>2                     </td><td>13                    </td><td>0                     </td></tr>\n",
       "\t<tr><td>Go Soeda              </td><td>Chennai               </td><td>2012-01-02            </td><td>Hard                  </td><td>First Round           </td><td>120                   </td><td>0                     </td><td>2                     </td><td>19                    </td><td>6                     </td><td>...                   </td><td>19                    </td><td>39                    </td><td>5                     </td><td>11                    </td><td>42                    </td><td>105                   </td><td>109                   </td><td>3                     </td><td>33                    </td><td>1                     </td></tr>\n",
       "\t<tr><td>Frederico Gil         </td><td>Chennai               </td><td>2012-01-02            </td><td>Hard                  </td><td>First Round           </td><td>102                   </td><td>0                     </td><td>1                     </td><td>14                    </td><td>5                     </td><td>...                   </td><td>18                    </td><td>35                    </td><td>2                     </td><td> 4                    </td><td>36                    </td><td>103                   </td><td> 99                   </td><td>3                     </td><td>33                    </td><td>0                     </td></tr>\n",
       "</tbody>\n",
       "</table>\n"
      ],
      "text/latex": [
       "\\begin{tabular}{r|lllllllllllllllllllllll}\n",
       " Player & Tournament & Tournament\\_Date & Court\\_Surface & Round\\_Description & Player\\_Rank & Retirement\\_Ind & Player\\_Sets\\_Won & Player\\_Games\\_Won & Player\\_Aces & ... & Player\\_SecondServes\\_Won & Player\\_SecondServes\\_In & Player\\_BreakPoints\\_Won & Player\\_BreakPoints & Player\\_ReturnPoints\\_Won & Player\\_ReturnPoints\\_Faced & Player\\_TotalPoints\\_Won & Match\\_Id & Total\\_Games & Winner\\\\\n",
       "\\hline\n",
       "\t Edouard Roger-Vasselin & Chennai                & 2012-01-02             & Hard                   & First Round            & 106                    & 0                      & 2                      & 12                     & 5                      & ...                    & 12                     & 19                     & 4                      &  7                     & 25                     &  59                    &  59                    & 1                      & 19                     & 1                     \\\\\n",
       "\t Eric Prodon            & Chennai                & 2012-01-02             & Hard                   & First Round            &  97                    & 0                      & 0                      &  7                     & 2                      & ...                    & 13                     & 26                     & 1                      &  3                     & 15                     &  49                    &  49                    & 1                      & 19                     & 0                     \\\\\n",
       "\t Dudi Sela              & Chennai                & 2012-01-02             & Hard                   & First Round            &  83                    & 0                      & 2                      & 12                     & 2                      & ...                    & 11                     & 16                     & 6                      & 14                     & 36                     &  58                    &  61                    & 2                      & 13                     & 1                     \\\\\n",
       "\t Fabio Fognini          & Chennai                & 2012-01-02             & Hard                   & First Round            &  48                    & 0                      & 0                      &  1                     & 1                      & ...                    &  5                     & 26                     & 0                      &  1                     &  8                     &  33                    &  30                    & 2                      & 13                     & 0                     \\\\\n",
       "\t Go Soeda               & Chennai                & 2012-01-02             & Hard                   & First Round            & 120                    & 0                      & 2                      & 19                     & 6                      & ...                    & 19                     & 39                     & 5                      & 11                     & 42                     & 105                    & 109                    & 3                      & 33                     & 1                     \\\\\n",
       "\t Frederico Gil          & Chennai                & 2012-01-02             & Hard                   & First Round            & 102                    & 0                      & 1                      & 14                     & 5                      & ...                    & 18                     & 35                     & 2                      &  4                     & 36                     & 103                    &  99                    & 3                      & 33                     & 0                     \\\\\n",
       "\\end{tabular}\n"
      ],
      "text/markdown": [
       "\n",
       "Player | Tournament | Tournament_Date | Court_Surface | Round_Description | Player_Rank | Retirement_Ind | Player_Sets_Won | Player_Games_Won | Player_Aces | ... | Player_SecondServes_Won | Player_SecondServes_In | Player_BreakPoints_Won | Player_BreakPoints | Player_ReturnPoints_Won | Player_ReturnPoints_Faced | Player_TotalPoints_Won | Match_Id | Total_Games | Winner | \n",
       "|---|---|---|---|---|---|\n",
       "| Edouard Roger-Vasselin | Chennai                | 2012-01-02             | Hard                   | First Round            | 106                    | 0                      | 2                      | 12                     | 5                      | ...                    | 12                     | 19                     | 4                      |  7                     | 25                     |  59                    |  59                    | 1                      | 19                     | 1                      | \n",
       "| Eric Prodon            | Chennai                | 2012-01-02             | Hard                   | First Round            |  97                    | 0                      | 0                      |  7                     | 2                      | ...                    | 13                     | 26                     | 1                      |  3                     | 15                     |  49                    |  49                    | 1                      | 19                     | 0                      | \n",
       "| Dudi Sela              | Chennai                | 2012-01-02             | Hard                   | First Round            |  83                    | 0                      | 2                      | 12                     | 2                      | ...                    | 11                     | 16                     | 6                      | 14                     | 36                     |  58                    |  61                    | 2                      | 13                     | 1                      | \n",
       "| Fabio Fognini          | Chennai                | 2012-01-02             | Hard                   | First Round            |  48                    | 0                      | 0                      |  1                     | 1                      | ...                    |  5                     | 26                     | 0                      |  1                     |  8                     |  33                    |  30                    | 2                      | 13                     | 0                      | \n",
       "| Go Soeda               | Chennai                | 2012-01-02             | Hard                   | First Round            | 120                    | 0                      | 2                      | 19                     | 6                      | ...                    | 19                     | 39                     | 5                      | 11                     | 42                     | 105                    | 109                    | 3                      | 33                     | 1                      | \n",
       "| Frederico Gil          | Chennai                | 2012-01-02             | Hard                   | First Round            | 102                    | 0                      | 1                      | 14                     | 5                      | ...                    | 18                     | 35                     | 2                      |  4                     | 36                     | 103                    |  99                    | 3                      | 33                     | 0                      | \n",
       "\n",
       "\n"
      ],
      "text/plain": [
       "  Player                 Tournament Tournament_Date Court_Surface\n",
       "1 Edouard Roger-Vasselin Chennai    2012-01-02      Hard         \n",
       "2 Eric Prodon            Chennai    2012-01-02      Hard         \n",
       "3 Dudi Sela              Chennai    2012-01-02      Hard         \n",
       "4 Fabio Fognini          Chennai    2012-01-02      Hard         \n",
       "5 Go Soeda               Chennai    2012-01-02      Hard         \n",
       "6 Frederico Gil          Chennai    2012-01-02      Hard         \n",
       "  Round_Description Player_Rank Retirement_Ind Player_Sets_Won Player_Games_Won\n",
       "1 First Round       106         0              2               12              \n",
       "2 First Round        97         0              0                7              \n",
       "3 First Round        83         0              2               12              \n",
       "4 First Round        48         0              0                1              \n",
       "5 First Round       120         0              2               19              \n",
       "6 First Round       102         0              1               14              \n",
       "  Player_Aces ... Player_SecondServes_Won Player_SecondServes_In\n",
       "1 5           ... 12                      19                    \n",
       "2 2           ... 13                      26                    \n",
       "3 2           ... 11                      16                    \n",
       "4 1           ...  5                      26                    \n",
       "5 6           ... 19                      39                    \n",
       "6 5           ... 18                      35                    \n",
       "  Player_BreakPoints_Won Player_BreakPoints Player_ReturnPoints_Won\n",
       "1 4                       7                 25                     \n",
       "2 1                       3                 15                     \n",
       "3 6                      14                 36                     \n",
       "4 0                       1                  8                     \n",
       "5 5                      11                 42                     \n",
       "6 2                       4                 36                     \n",
       "  Player_ReturnPoints_Faced Player_TotalPoints_Won Match_Id Total_Games Winner\n",
       "1  59                        59                    1        19          1     \n",
       "2  49                        49                    1        19          0     \n",
       "3  58                        61                    2        13          1     \n",
       "4  33                        30                    2        13          0     \n",
       "5 105                       109                    3        33          1     \n",
       "6 103                        99                    3        33          0     "
      ]
     },
     "metadata": {},
     "output_type": "display_data"
    }
   ],
   "source": [
    "# Read in men and womens data; randomise the data to avoid result leakage\n",
    "mens = readr::read_csv('data/ATP_matches_Jan_10.csv', na = \".\") %>%\n",
    "  filter(Court_Surface == \"Hard\" | Court_Surface == \"Indoor Hard\") %>% # Filter to only use hardcourt games\n",
    "  mutate(Match_Id = row_number(), # Add a match ID column to be used as a key\n",
    "         Tournament_Date = dmy(Tournament_Date), # Change Tournament to datetime\n",
    "         Total_Games = Winner_Games_Won + Loser_Games_Won) %>% # Add a total games played column\n",
    "  split_winner_loser_columns() # Change the dataframe from wide to long\n",
    "\n",
    "mens %>% head()"
   ]
  },
  {
   "cell_type": "markdown",
   "metadata": {},
   "source": [
    "## Feature Creation\n",
    "Now that we have a fairly good understanding of what the data looks like, let's add some features. To do this we will define a function. Ideally we want to add features which will provide predictive power to our model. \n",
    "\n",
    "Thinking about the dynamics of tennis, we know that players often will matches by \"breaking\" the opponent's serve (i.e. winning a game when the opponent is serving). This is especially important in mens tennis. Let's create a feature called `F_Player_BreakPoints_Per_Game`, which is the number of breakpoints a player gets per game that they play (even though they can only get breakpoints every second game, we will use total games). Let's also create a feature called `F_Player_Return_Win_Ratio` which is the proportion of points won when returning.\n",
    "\n",
    "Similarly, \"holding\" serve is important (i.e. winning a game when you are serving). Let's create a feature called `F_Player_Serve_Win_Ratio` which is the proportion of points won when serving.\n",
    "\n",
    "Finally, you only win a set of tennis by winning more sets than your opponent. To win a set, you need to win games. Let's create a feature called `F_Player_Game_Win_Percentage` which is the propotion of games that a player wins."
   ]
  },
  {
   "cell_type": "code",
   "execution_count": 7,
   "metadata": {},
   "outputs": [],
   "source": [
    "add_ratio_features <- function(df) {\n",
    "  # This function adds ratio features to a long df\n",
    "  df %>%\n",
    "    mutate(\n",
    "      # Point Win ratio when serving\n",
    "      F_Player_Serve_Win_Ratio = (Player_FirstServes_Won + Player_SecondServes_Won - Player_DoubleFaults) / \n",
    "        (Player_FirstServes_In + Player_SecondServes_In + Player_DoubleFaults), \n",
    "      # Point win ratio when returning\n",
    "      F_Player_Return_Win_Ratio = Player_ReturnPoints_Won / Player_ReturnPoints_Faced, \n",
    "      # Breakpoints per receiving game\n",
    "      F_Player_BreakPoints_Per_Game = Player_BreakPoints / Total_Games, \n",
    "      F_Player_Game_Win_Percentage = Player_Games_Won / Total_Games\n",
    "    ) %>%\n",
    "    mutate_at(\n",
    "      vars(colnames(.), -contains(\"Rank\"), -Tournament_Date), # Replace all NAs with0 apart from Rank, Date\n",
    "      ~ifelse(is.na(.), 0, .)\n",
    "    ) %>%\n",
    "    return()\n",
    "}\n",
    "\n",
    "\n",
    "mens = mens %>%\n",
    "  add_ratio_features() # Add features"
   ]
  },
  {
   "cell_type": "markdown",
   "metadata": {},
   "source": [
    "Now that we have added our features, we need to create rolling averages for them. We cannot simply use current match statistics, as they will leak the result to the model. Instead, we need to use past match statistics to predict future matches. Here we will use a rolling mean with a window of 15. If the player hasn't played 15 games, we will instead use a cumulative mean. We will also lag the result so as to not leak the result.\n",
    "\n",
    "This next chunk of code simply takes all the columns starting with F_ and calculates these means."
   ]
  },
  {
   "cell_type": "code",
   "execution_count": 8,
   "metadata": {},
   "outputs": [],
   "source": [
    "mens = mens %>% \n",
    "  group_by(Player) %>% # Group by player\n",
    "  mutate_at( # Create a rolling mean with window 15 for each player. \n",
    "    vars(starts_with(\"F_\")), # If the player hasn't played 15 games, use a cumulative mean\n",
    "    ~coalesce(rollmean(., k = 15, align = \"right\", fill = NA_real_), cummean(.)) %>% lag()\n",
    "  ) %>%\n",
    "  ungroup()"
   ]
  },
  {
   "cell_type": "markdown",
   "metadata": {},
   "source": [
    "## Creating a Training Feature Matrix\n",
    "In predictive modelling language - features are data metrics we use to predict an outcome or target variable. We have several choices to make before we get to the prediction phase. What are the features? How do we structure the outcome variable? What does each row mean? Do we use all data or just a subset? We narrowed it down to two options\n",
    "\n",
    "We can train the model on every tennis match in the data set, or\n",
    "We can only train the model on Australian Open matches.\n",
    "Doing Option 1 would mean we have a lot more data to build a strong model, but it might be challenging to work around the constraints described in the tournament structure.\n",
    "\n",
    "Doing Option 2 fits better from that angle but leaves us with very few matches to train our model on.\n",
    " \n",
    "We have decided to go with an option that combines strengths from both approaches, by training the model on matches from the Aus Open and the US Open because both grand slams are played on the same surface - hard court.\n",
    "\n",
    "However, we also need to train our model in the same way that will be used to predict the 2019 Australian Open. When predicting the 2nd round, we won't have data from the 1st round. So we will need to build our training feature matrix with this in mind. We should extract features for a player from past games at the start of the tournament and apply them to every matchup that that player plays.\n",
    "\n",
    "To do this, we will create a function, `extract_latest_features_for_tournament`, which maps over our feature dataframe for the dates in the first round of a tournament and grabs features.\n",
    "\n",
    "First, we need the Australian Open and US Open results - let's grab these and then apply our function."
   ]
  },
  {
   "cell_type": "code",
   "execution_count": 9,
   "metadata": {},
   "outputs": [],
   "source": [
    "# Get Australian Open and US Open Results\n",
    "aus_us_open_results = \n",
    "  mens %>%\n",
    "  filter((Tournament == \"Australian Open, Melbourne\" | Tournament == \"U.S. Open, New York\")\n",
    "         & Round_Description != \"Qualifying\" & Tournament_Date != \"2012-01-16\") %>% # Filter out qualifiers\n",
    "  select(Match_Id, Player, Tournament, Tournament_Date, Round_Description, Winner)\n",
    "\n",
    "# Create a function which extracts features for each tournament\n",
    "extract_latest_features_for_tournament = function(df, dte) {\n",
    "  \n",
    "  df %>% # Filter for the 1st round\n",
    "    filter(Tournament_Date == dte, Round_Description == \"First Round\", Tournament_Date != \"2012-01-16\") %>% \n",
    "    group_by(Player) %>% # Group by player\n",
    "    select_at(\n",
    "      vars(Match_Id, starts_with(\"F_\"), Player_Rank) # Grab the players' features\n",
    "    ) %>%\n",
    "    rename(F_Player_Rank = Player_Rank) %>%\n",
    "    ungroup() %>%\n",
    "    mutate(Feature_Date = dte) %>%\n",
    "    select(Player, Feature_Date, everything())\n",
    "}\n",
    "\n",
    "# Create a feature matrix in long format\n",
    "feature_matrix_long = \n",
    "  aus_us_open_results %>%\n",
    "  distinct(Tournament_Date) %>% # Pull all Tournament Dates\n",
    "  pull() %>%\n",
    "  map_dfr(\n",
    "    ~extract_latest_features_for_tournament(mens, .) # Get the features\n",
    "  ) %>%\n",
    "  filter(Feature_Date != \"2012-01-16\") %>% # Filter out the first Aus Open\n",
    "  mutate_at( # Replace NAs with the mean\n",
    "    vars(starts_with(\"F_\")),\n",
    "    ~ifelse(is.na(.), mean(., na.rm = TRUE), .)\n",
    "  )"
   ]
  },
  {
   "cell_type": "markdown",
   "metadata": {},
   "source": [
    "Now that we have a feature matrix in long format, we need to convert it to wide format so that the features are on the same row. To do this we will define a function `gather_df`, which converts the dataframe from long to wide.\n",
    "Let's also join the results to the matrix and convert the `Winner` column to a factor. Finally, we will take the difference of player1 and player2's features, so as to reduce the dimensionality of the model."
   ]
  },
  {
   "cell_type": "code",
   "execution_count": 10,
   "metadata": {},
   "outputs": [
    {
     "data": {
      "text/html": [
       "<table>\n",
       "<thead><tr><th scope=col>Match_Id</th><th scope=col>player_1</th><th scope=col>player_2</th><th scope=col>Tournament</th><th scope=col>Tournament_Date</th><th scope=col>Round_Description</th><th scope=col>Winner</th><th scope=col>F_Serve_Win_Ratio_Diff</th><th scope=col>F_Return_Win_Ratio_Diff</th><th scope=col>F_Game_Win_Percentage_Diff</th><th scope=col>F_BreakPoints_Per_Game_Diff</th><th scope=col>F_Rank_Diff</th></tr></thead>\n",
       "<tbody>\n",
       "\t<tr><td>1139               </td><td>Adrian Ungur       </td><td>Daniel Brands      </td><td>U.S. Open, New York</td><td>2012-08-27         </td><td>First Round        </td><td>0                  </td><td> 0.03282797        </td><td>-0.014656353       </td><td> 0.00299747        </td><td> 0.074147035       </td><td> -13               </td></tr>\n",
       "\t<tr><td>1140               </td><td>Albert Montanes    </td><td>Richard Gasquet    </td><td>U.S. Open, New York</td><td>2012-08-27         </td><td>First Round        </td><td>0                  </td><td>-0.08000322        </td><td>-0.077451342       </td><td>-0.13110806        </td><td>-0.180846832       </td><td>  97               </td></tr>\n",
       "\t<tr><td>1141               </td><td>Martin Klizan      </td><td>Alejandro Falla    </td><td>U.S. Open, New York</td><td>2012-08-27         </td><td>First Round        </td><td>1                  </td><td> 0.07711693        </td><td>-0.044715517       </td><td> 0.06817984        </td><td>-0.087361962       </td><td>   1               </td></tr>\n",
       "\t<tr><td>1142               </td><td>Alex Bogomolov Jr. </td><td>Andy Murray        </td><td>U.S. Open, New York</td><td>2012-08-27         </td><td>First Round        </td><td>0                  </td><td>-0.03964074        </td><td>-0.031700826       </td><td>-0.05901007        </td><td>-0.094721700       </td><td>  69               </td></tr>\n",
       "\t<tr><td>1143               </td><td>Andreas Seppi      </td><td>Tommy Robredo      </td><td>U.S. Open, New York</td><td>2012-08-27         </td><td>First Round        </td><td>0                  </td><td> 0.02681392        </td><td>-0.006442134       </td><td> 0.06777966        </td><td> 0.009930089       </td><td>-151               </td></tr>\n",
       "\t<tr><td>1144               </td><td>Ryan Harrison      </td><td>Benjamin Becker    </td><td>U.S. Open, New York</td><td>2012-08-27         </td><td>First Round        </td><td>1                  </td><td> 0.04251983        </td><td> 0.018604623       </td><td> 0.02648675        </td><td>-0.003548973       </td><td> -24               </td></tr>\n",
       "</tbody>\n",
       "</table>\n"
      ],
      "text/latex": [
       "\\begin{tabular}{r|llllllllllll}\n",
       " Match\\_Id & player\\_1 & player\\_2 & Tournament & Tournament\\_Date & Round\\_Description & Winner & F\\_Serve\\_Win\\_Ratio\\_Diff & F\\_Return\\_Win\\_Ratio\\_Diff & F\\_Game\\_Win\\_Percentage\\_Diff & F\\_BreakPoints\\_Per\\_Game\\_Diff & F\\_Rank\\_Diff\\\\\n",
       "\\hline\n",
       "\t 1139                & Adrian Ungur        & Daniel Brands       & U.S. Open, New York & 2012-08-27          & First Round         & 0                   &  0.03282797         & -0.014656353        &  0.00299747         &  0.074147035        &  -13               \\\\\n",
       "\t 1140                & Albert Montanes     & Richard Gasquet     & U.S. Open, New York & 2012-08-27          & First Round         & 0                   & -0.08000322         & -0.077451342        & -0.13110806         & -0.180846832        &   97               \\\\\n",
       "\t 1141                & Martin Klizan       & Alejandro Falla     & U.S. Open, New York & 2012-08-27          & First Round         & 1                   &  0.07711693         & -0.044715517        &  0.06817984         & -0.087361962        &    1               \\\\\n",
       "\t 1142                & Alex Bogomolov Jr.  & Andy Murray         & U.S. Open, New York & 2012-08-27          & First Round         & 0                   & -0.03964074         & -0.031700826        & -0.05901007         & -0.094721700        &   69               \\\\\n",
       "\t 1143                & Andreas Seppi       & Tommy Robredo       & U.S. Open, New York & 2012-08-27          & First Round         & 0                   &  0.02681392         & -0.006442134        &  0.06777966         &  0.009930089        & -151               \\\\\n",
       "\t 1144                & Ryan Harrison       & Benjamin Becker     & U.S. Open, New York & 2012-08-27          & First Round         & 1                   &  0.04251983         &  0.018604623        &  0.02648675         & -0.003548973        &  -24               \\\\\n",
       "\\end{tabular}\n"
      ],
      "text/markdown": [
       "\n",
       "Match_Id | player_1 | player_2 | Tournament | Tournament_Date | Round_Description | Winner | F_Serve_Win_Ratio_Diff | F_Return_Win_Ratio_Diff | F_Game_Win_Percentage_Diff | F_BreakPoints_Per_Game_Diff | F_Rank_Diff | \n",
       "|---|---|---|---|---|---|\n",
       "| 1139                | Adrian Ungur        | Daniel Brands       | U.S. Open, New York | 2012-08-27          | First Round         | 0                   |  0.03282797         | -0.014656353        |  0.00299747         |  0.074147035        |  -13                | \n",
       "| 1140                | Albert Montanes     | Richard Gasquet     | U.S. Open, New York | 2012-08-27          | First Round         | 0                   | -0.08000322         | -0.077451342        | -0.13110806         | -0.180846832        |   97                | \n",
       "| 1141                | Martin Klizan       | Alejandro Falla     | U.S. Open, New York | 2012-08-27          | First Round         | 1                   |  0.07711693         | -0.044715517        |  0.06817984         | -0.087361962        |    1                | \n",
       "| 1142                | Alex Bogomolov Jr.  | Andy Murray         | U.S. Open, New York | 2012-08-27          | First Round         | 0                   | -0.03964074         | -0.031700826        | -0.05901007         | -0.094721700        |   69                | \n",
       "| 1143                | Andreas Seppi       | Tommy Robredo       | U.S. Open, New York | 2012-08-27          | First Round         | 0                   |  0.02681392         | -0.006442134        |  0.06777966         |  0.009930089        | -151                | \n",
       "| 1144                | Ryan Harrison       | Benjamin Becker     | U.S. Open, New York | 2012-08-27          | First Round         | 1                   |  0.04251983         |  0.018604623        |  0.02648675         | -0.003548973        |  -24                | \n",
       "\n",
       "\n"
      ],
      "text/plain": [
       "  Match_Id player_1           player_2        Tournament         \n",
       "1 1139     Adrian Ungur       Daniel Brands   U.S. Open, New York\n",
       "2 1140     Albert Montanes    Richard Gasquet U.S. Open, New York\n",
       "3 1141     Martin Klizan      Alejandro Falla U.S. Open, New York\n",
       "4 1142     Alex Bogomolov Jr. Andy Murray     U.S. Open, New York\n",
       "5 1143     Andreas Seppi      Tommy Robredo   U.S. Open, New York\n",
       "6 1144     Ryan Harrison      Benjamin Becker U.S. Open, New York\n",
       "  Tournament_Date Round_Description Winner F_Serve_Win_Ratio_Diff\n",
       "1 2012-08-27      First Round       0       0.03282797           \n",
       "2 2012-08-27      First Round       0      -0.08000322           \n",
       "3 2012-08-27      First Round       1       0.07711693           \n",
       "4 2012-08-27      First Round       0      -0.03964074           \n",
       "5 2012-08-27      First Round       0       0.02681392           \n",
       "6 2012-08-27      First Round       1       0.04251983           \n",
       "  F_Return_Win_Ratio_Diff F_Game_Win_Percentage_Diff\n",
       "1 -0.014656353             0.00299747               \n",
       "2 -0.077451342            -0.13110806               \n",
       "3 -0.044715517             0.06817984               \n",
       "4 -0.031700826            -0.05901007               \n",
       "5 -0.006442134             0.06777966               \n",
       "6  0.018604623             0.02648675               \n",
       "  F_BreakPoints_Per_Game_Diff F_Rank_Diff\n",
       "1  0.074147035                 -13       \n",
       "2 -0.180846832                  97       \n",
       "3 -0.087361962                   1       \n",
       "4 -0.094721700                  69       \n",
       "5  0.009930089                -151       \n",
       "6 -0.003548973                 -24       "
      ]
     },
     "metadata": {},
     "output_type": "display_data"
    }
   ],
   "source": [
    "gather_df <- function(df) {\n",
    "  # This function puts the df back into its original format of each row containing stats for both players\n",
    "  df %>%\n",
    "    arrange(Match_Id) %>%\n",
    "    filter(row_number() %% 2 != 0) %>% # Filter for every 2nd row, starting at the 1st index. e.g. 1, 3, 5\n",
    "    rename_at( # Rename columns to player_1\n",
    "      vars(contains(\"Player\")),\n",
    "      ~str_replace(., \"Player\", \"player_1\")\n",
    "    ) %>%\n",
    "    inner_join(df %>%\n",
    "                 filter(row_number() %% 2 == 0) %>%\n",
    "                 rename_at(\n",
    "                   vars(contains(\"Player\")), # Rename columns to player_2\n",
    "                   ~str_replace(., \"Player\", \"player_2\")\n",
    "                 ) %>%\n",
    "                 select(Match_Id, contains(\"Player\")),\n",
    "               by=c('Match_Id')\n",
    "    ) %>%\n",
    "    select(Match_Id, player_1, player_2, Winner, everything()) %>%\n",
    "    return()\n",
    "}\n",
    "\n",
    "\n",
    "# Joining results to features\n",
    "feature_matrix_wide = aus_us_open_results %>%\n",
    "  inner_join(feature_matrix_long %>% \n",
    "               select(-Match_Id), \n",
    "             by = c(\"Player\", \"Tournament_Date\" = \"Feature_Date\")) %>%\n",
    "  gather_df() %>%\n",
    "  mutate(\n",
    "    F_Serve_Win_Ratio_Diff = F_player_1_Serve_Win_Ratio - F_player_2_Serve_Win_Ratio,\n",
    "    F_Return_Win_Ratio_Diff = F_player_1_Return_Win_Ratio - F_player_2_Return_Win_Ratio,\n",
    "    F_Game_Win_Percentage_Diff = F_player_1_Game_Win_Percentage - F_player_2_Game_Win_Percentage,\n",
    "    F_BreakPoints_Per_Game_Diff = F_player_1_BreakPoints_Per_Game - F_player_2_BreakPoints_Per_Game,\n",
    "    F_Rank_Diff = (F_player_1_Rank - F_player_2_Rank),\n",
    "    Winner = as.factor(Winner)\n",
    "  ) %>%\n",
    "  select(Match_Id, player_1, player_2, Tournament, Tournament_Date, Round_Description, Winner, contains(\"Diff\"))\n",
    "\n",
    "train = feature_matrix_wide\n",
    "\n",
    "train %>% head()"
   ]
  },
  {
   "cell_type": "markdown",
   "metadata": {},
   "source": [
    "## Creating the Feature Matrix for the 2019 Australian Open\n",
    "Now that we have our training set, `train`, we need to create a feature matrix to create predictions on. To do this, we need to generate features again. We could simply append a player list to our raw dataframe, create a mock date and then use the `extract_latest_features_for_tournament` function that we used before. \n",
    "Instead, we're going to create a lookup table for each unique player in the 2019 Australian Open. We will need to get their last 15 games and then find the mean for each feature so that our features are the same.\n",
    "\n",
    "Let's first explore what the dummy submission file looks like, then use it to get the unique players."
   ]
  },
  {
   "cell_type": "code",
   "execution_count": 11,
   "metadata": {},
   "outputs": [
    {
     "name": "stderr",
     "output_type": "stream",
     "text": [
      "Parsed with column specification:\n",
      "cols(\n",
      "  player_1 = col_character(),\n",
      "  player_2 = col_character(),\n",
      "  player_1_win_probability = col_double()\n",
      ")\n"
     ]
    },
    {
     "name": "stdout",
     "output_type": "stream",
     "text": [
      "Observations: 16,256\n",
      "Variables: 3\n",
      "$ player_1                 <chr> \"Novak Djokovic\", \"Novak Djokovic\", \"Novak...\n",
      "$ player_2                 <chr> \"Rafael Nadal\", \"Roger Federer\", \"Juan Mar...\n",
      "$ player_1_win_probability <dbl> 0.5, 0.5, 0.5, 0.5, 0.5, 0.5, 0.5, 0.5, 0....\n"
     ]
    }
   ],
   "source": [
    "read_csv('data/men_dummy_submission_file.csv') %>% glimpse()"
   ]
  },
  {
   "cell_type": "markdown",
   "metadata": {},
   "source": [
    "As we can see, the dummy submission file contains every potential match up for the Open. This will be updated a few days before the Open starts with the actual players playing. Let's now create the lookup feature table."
   ]
  },
  {
   "cell_type": "code",
   "execution_count": 14,
   "metadata": {},
   "outputs": [
    {
     "name": "stderr",
     "output_type": "stream",
     "text": [
      "Parsed with column specification:\n",
      "cols(\n",
      "  player_1 = col_character(),\n",
      "  player_2 = col_character(),\n",
      "  player_1_win_probability = col_double()\n",
      ")\n",
      "Parsed with column specification:\n",
      "cols(\n",
      "  .default = col_integer(),\n",
      "  Winner = col_character(),\n",
      "  Loser = col_character(),\n",
      "  Tournament = col_character(),\n",
      "  Tournament_Date = col_character(),\n",
      "  Court_Surface = col_character(),\n",
      "  Round_Description = col_character()\n",
      ")\n",
      "See spec(...) for full column specifications.\n"
     ]
    }
   ],
   "source": [
    "# Get a vector of unique players in this years' open using the dummy submission file\n",
    "unique_players = read_csv('data/men_dummy_submission_file.csv') %>% pull(player_1) %>% unique()\n",
    "\n",
    "# Get the last 15 games played for each unique player and find their features\n",
    "lookup_feature_table = read_csv('data/ATP_matches_Jan_10.csv', na = \".\") %>%\n",
    "  filter(Court_Surface == \"Hard\" | Court_Surface == \"Indoor Hard\") %>%\n",
    "  mutate(Match_Id = row_number(), # Add a match ID column to be used as a key\n",
    "         Tournament_Date = dmy(Tournament_Date), # Change Tournament to datetime\n",
    "         Total_Games = Winner_Games_Won + Loser_Games_Won) %>% # Add a total games played column\n",
    "  # clean_missing_data() %>% # Clean missing data\n",
    "  split_winner_loser_columns() %>% # Change the dataframe from wide to long\n",
    "  add_ratio_features() %>%\n",
    "  filter(Player %in% unique_players) %>%\n",
    "  group_by(Player) %>%\n",
    "  top_n(15, Match_Id) %>%\n",
    "  summarise(\n",
    "    F_Player_Serve_Win_Ratio = mean(F_Player_Serve_Win_Ratio),\n",
    "    F_Player_Return_Win_Ratio = mean(F_Player_Return_Win_Ratio),\n",
    "    F_Player_BreakPoints_Per_Game = mean(F_Player_BreakPoints_Per_Game),\n",
    "    F_Player_Game_Win_Percentage = mean(F_Player_Game_Win_Percentage),\n",
    "    F_Player_Rank = last(Player_Rank)\n",
    "  )"
   ]
  },
  {
   "cell_type": "markdown",
   "metadata": {},
   "source": [
    "Now let's create features for every single combination. To do this we'll join our `lookup_feature_table` to the `player_1` and `player_2` columns in the `dummy_submission_file`."
   ]
  },
  {
   "cell_type": "code",
   "execution_count": 15,
   "metadata": {},
   "outputs": [
    {
     "name": "stderr",
     "output_type": "stream",
     "text": [
      "Parsed with column specification:\n",
      "cols(\n",
      "  player_1 = col_character(),\n",
      "  player_2 = col_character(),\n",
      "  player_1_win_probability = col_double()\n",
      ")\n",
      "Parsed with column specification:\n",
      "cols(\n",
      "  player_1 = col_character(),\n",
      "  player_2 = col_character(),\n",
      "  player_1_win_probability = col_double()\n",
      ")\n"
     ]
    },
    {
     "data": {
      "text/html": [
       "<table>\n",
       "<thead><tr><th scope=col>player_1</th><th scope=col>player_2</th><th scope=col>F_Serve_Win_Ratio_Diff</th><th scope=col>F_Return_Win_Ratio_Diff</th><th scope=col>F_Game_Win_Percentage_Diff</th><th scope=col>F_BreakPoints_Per_Game_Diff</th><th scope=col>F_Rank_Diff</th></tr></thead>\n",
       "<tbody>\n",
       "\t<tr><td>Novak Djokovic       </td><td>Rafael Nadal         </td><td>0.054796538          </td><td>0.01458660           </td><td>0.05057487           </td><td>0.04138062           </td><td> 0                   </td></tr>\n",
       "\t<tr><td>Novak Djokovic       </td><td>Roger Federer        </td><td>0.050639306          </td><td>0.04125833           </td><td>0.06741401           </td><td>0.11717667           </td><td>-2                   </td></tr>\n",
       "\t<tr><td>Novak Djokovic       </td><td>Juan Martin del Potro</td><td>0.001989282          </td><td>0.02390881           </td><td>0.04437458           </td><td>0.06447018           </td><td>-3                   </td></tr>\n",
       "\t<tr><td>Novak Djokovic       </td><td>Alexander Zverev     </td><td>0.086424833          </td><td>0.02628103           </td><td>0.08016647           </td><td>0.04622177           </td><td>-4                   </td></tr>\n",
       "\t<tr><td>Novak Djokovic       </td><td>Kevin Anderson       </td><td>0.017184395          </td><td>0.09421189           </td><td>0.10132016           </td><td>0.21125027           </td><td>-5                   </td></tr>\n",
       "\t<tr><td>Novak Djokovic       </td><td>Marin Cilic          </td><td>0.075425949          </td><td>0.01389774           </td><td>0.05708140           </td><td>0.03542173           </td><td>-6                   </td></tr>\n",
       "</tbody>\n",
       "</table>\n"
      ],
      "text/latex": [
       "\\begin{tabular}{r|lllllll}\n",
       " player\\_1 & player\\_2 & F\\_Serve\\_Win\\_Ratio\\_Diff & F\\_Return\\_Win\\_Ratio\\_Diff & F\\_Game\\_Win\\_Percentage\\_Diff & F\\_BreakPoints\\_Per\\_Game\\_Diff & F\\_Rank\\_Diff\\\\\n",
       "\\hline\n",
       "\t Novak Djokovic        & Rafael Nadal          & 0.054796538           & 0.01458660            & 0.05057487            & 0.04138062            &  0                   \\\\\n",
       "\t Novak Djokovic        & Roger Federer         & 0.050639306           & 0.04125833            & 0.06741401            & 0.11717667            & -2                   \\\\\n",
       "\t Novak Djokovic        & Juan Martin del Potro & 0.001989282           & 0.02390881            & 0.04437458            & 0.06447018            & -3                   \\\\\n",
       "\t Novak Djokovic        & Alexander Zverev      & 0.086424833           & 0.02628103            & 0.08016647            & 0.04622177            & -4                   \\\\\n",
       "\t Novak Djokovic        & Kevin Anderson        & 0.017184395           & 0.09421189            & 0.10132016            & 0.21125027            & -5                   \\\\\n",
       "\t Novak Djokovic        & Marin Cilic           & 0.075425949           & 0.01389774            & 0.05708140            & 0.03542173            & -6                   \\\\\n",
       "\\end{tabular}\n"
      ],
      "text/markdown": [
       "\n",
       "player_1 | player_2 | F_Serve_Win_Ratio_Diff | F_Return_Win_Ratio_Diff | F_Game_Win_Percentage_Diff | F_BreakPoints_Per_Game_Diff | F_Rank_Diff | \n",
       "|---|---|---|---|---|---|\n",
       "| Novak Djokovic        | Rafael Nadal          | 0.054796538           | 0.01458660            | 0.05057487            | 0.04138062            |  0                    | \n",
       "| Novak Djokovic        | Roger Federer         | 0.050639306           | 0.04125833            | 0.06741401            | 0.11717667            | -2                    | \n",
       "| Novak Djokovic        | Juan Martin del Potro | 0.001989282           | 0.02390881            | 0.04437458            | 0.06447018            | -3                    | \n",
       "| Novak Djokovic        | Alexander Zverev      | 0.086424833           | 0.02628103            | 0.08016647            | 0.04622177            | -4                    | \n",
       "| Novak Djokovic        | Kevin Anderson        | 0.017184395           | 0.09421189            | 0.10132016            | 0.21125027            | -5                    | \n",
       "| Novak Djokovic        | Marin Cilic           | 0.075425949           | 0.01389774            | 0.05708140            | 0.03542173            | -6                    | \n",
       "\n",
       "\n"
      ],
      "text/plain": [
       "  player_1       player_2              F_Serve_Win_Ratio_Diff\n",
       "1 Novak Djokovic Rafael Nadal          0.054796538           \n",
       "2 Novak Djokovic Roger Federer         0.050639306           \n",
       "3 Novak Djokovic Juan Martin del Potro 0.001989282           \n",
       "4 Novak Djokovic Alexander Zverev      0.086424833           \n",
       "5 Novak Djokovic Kevin Anderson        0.017184395           \n",
       "6 Novak Djokovic Marin Cilic           0.075425949           \n",
       "  F_Return_Win_Ratio_Diff F_Game_Win_Percentage_Diff\n",
       "1 0.01458660              0.05057487                \n",
       "2 0.04125833              0.06741401                \n",
       "3 0.02390881              0.04437458                \n",
       "4 0.02628103              0.08016647                \n",
       "5 0.09421189              0.10132016                \n",
       "6 0.01389774              0.05708140                \n",
       "  F_BreakPoints_Per_Game_Diff F_Rank_Diff\n",
       "1 0.04138062                   0         \n",
       "2 0.11717667                  -2         \n",
       "3 0.06447018                  -3         \n",
       "4 0.04622177                  -4         \n",
       "5 0.21125027                  -5         \n",
       "6 0.03542173                  -6         "
      ]
     },
     "metadata": {},
     "output_type": "display_data"
    }
   ],
   "source": [
    "# Create feature matrix for the Australian Open for all player 1s\n",
    "features_player_1 = read_csv('data/men_dummy_submission_file.csv') %>%\n",
    "  select(player_1) %>%\n",
    "  inner_join(lookup_feature_table, by=c(\"player_1\" = \"Player\")) %>%\n",
    "  rename(F_player_1_Serve_Win_Ratio = F_Player_Serve_Win_Ratio,\n",
    "         F_player_1_Return_Win_Ratio = F_Player_Return_Win_Ratio,\n",
    "         F_player_1_BreakPoints_Per_Game = F_Player_BreakPoints_Per_Game,\n",
    "         F_player_1_Game_Win_Percentage = F_Player_Game_Win_Percentage,\n",
    "         F_player_1_Rank = F_Player_Rank)\n",
    "\n",
    "# Create feature matrix for the Australian Open for all player 2s\n",
    "features_player_2 = read_csv('data/men_dummy_submission_file.csv') %>%\n",
    "  select(player_2) %>%\n",
    "  inner_join(lookup_feature_table, by=c(\"player_2\" = \"Player\")) %>%\n",
    "  rename(F_player_2_Serve_Win_Ratio = F_Player_Serve_Win_Ratio,\n",
    "         F_player_2_Return_Win_Ratio = F_Player_Return_Win_Ratio,\n",
    "         F_player_2_BreakPoints_Per_Game = F_Player_BreakPoints_Per_Game,\n",
    "         F_player_2_Game_Win_Percentage = F_Player_Game_Win_Percentage,\n",
    "         F_player_2_Rank = F_Player_Rank)\n",
    "\n",
    "# Join the two dfs together and subtract features to create Difference features\n",
    "aus_open_2019_features = features_player_1 %>% \n",
    "  bind_cols(features_player_2) %>%\n",
    "  select(player_1, player_2, everything()) %>%\n",
    "  mutate(\n",
    "    F_Serve_Win_Ratio_Diff = F_player_1_Serve_Win_Ratio - F_player_2_Serve_Win_Ratio,\n",
    "    F_Return_Win_Ratio_Diff = F_player_1_Return_Win_Ratio - F_player_2_Return_Win_Ratio,\n",
    "    F_Game_Win_Percentage_Diff = F_player_1_Game_Win_Percentage - F_player_2_Game_Win_Percentage,\n",
    "    F_BreakPoints_Per_Game_Diff = F_player_1_BreakPoints_Per_Game - F_player_2_BreakPoints_Per_Game,\n",
    "    F_Rank_Diff = (F_player_1_Rank - F_player_2_Rank)\n",
    "  ) %>%\n",
    "  select(player_1, player_2, contains(\"Diff\"))\n",
    "\n",
    "\n",
    "aus_open_2019_features %>% head()"
   ]
  },
  {
   "cell_type": "markdown",
   "metadata": {},
   "source": [
    "## Generating 2019 Australian Open Predictions\n",
    "Now that we have our features, we can finally train our model and generate predictions for the 2019 Australian Open. Due to its simplicity, we will use h2o's Auto Machine Learning function `h2o.automl`. This will train a heap of different models and optimise the hyperparameters, as well as creating stacked ensembles automatically for us. We will use optimising by log loss.\n",
    "\n",
    "First, we must create h2o frames for our training and feature dataframes. Then we will run `h2o.automl`. Note that we can set the `max_runtime_secs` parameter. As this is a notebook, I have set it for 30 seconds - but I suggest you give it 10 minutes to create the best model. We can then create our predictions and assign them back to our `aus_open_2019_features` dataframe. Finally, we will group_by player and find the best player, on average."
   ]
  },
  {
   "cell_type": "code",
   "execution_count": 16,
   "metadata": {},
   "outputs": [
    {
     "name": "stdout",
     "output_type": "stream",
     "text": [
      "\n",
      "H2O is not running yet, starting it now...\n",
      "\n",
      "Note:  In case of errors look at the following log files:\n",
      "    C:\\Users\\wardj\\AppData\\Local\\Temp\\RtmpM1h1s9/h2o_WardJ_started_from_r.out\n",
      "    C:\\Users\\wardj\\AppData\\Local\\Temp\\RtmpM1h1s9/h2o_WardJ_started_from_r.err\n",
      "\n",
      "\n",
      "Starting H2O JVM and connecting:  Connection successful!\n",
      "\n",
      "R is connected to the H2O cluster: \n",
      "    H2O cluster uptime:         1 seconds 662 milliseconds \n",
      "    H2O cluster timezone:       Australia/Hobart \n",
      "    H2O data parsing timezone:  UTC \n",
      "    H2O cluster version:        3.23.0.4516 \n",
      "    H2O cluster version age:    23 days  \n",
      "    H2O cluster name:           H2O_started_from_R_WardJ_cal273 \n",
      "    H2O cluster total nodes:    1 \n",
      "    H2O cluster total memory:   21.33 GB \n",
      "    H2O cluster total cores:    4 \n",
      "    H2O cluster allowed cores:  2 \n",
      "    H2O cluster healthy:        TRUE \n",
      "    H2O Connection ip:          localhost \n",
      "    H2O Connection port:        54321 \n",
      "    H2O Connection proxy:       NA \n",
      "    H2O Internal Security:      FALSE \n",
      "    H2O API Extensions:         Algos, AutoML, Core V3, Core V4 \n",
      "    R Version:                  R version 3.5.0 (2018-04-23) \n",
      "\n",
      "  |======================================================================| 100%\n",
      "  |======================================================================| 100%\n",
      "  |======================================================================| 100%\n",
      "  |======================================================================| 100%\n"
     ]
    },
    {
     "data": {
      "text/html": [
       "TRUE"
      ],
      "text/latex": [
       "TRUE"
      ],
      "text/markdown": [
       "TRUE"
      ],
      "text/plain": [
       "[1] TRUE"
      ]
     },
     "metadata": {},
     "output_type": "display_data"
    }
   ],
   "source": [
    "## Setup H2O\n",
    "h2o.init(ip = \"localhost\",\n",
    "         port = 54321,\n",
    "         enable_assertions = TRUE,\n",
    "         nthreads = 2,\n",
    "         max_mem_size = \"24g\"\n",
    "         \n",
    ")\n",
    "\n",
    "## Sending file to h2o\n",
    "train_h2o = feature_matrix_wide %>%\n",
    "  select(contains(\"Diff\"), Winner) %>%\n",
    "  as.h2o(destination_frame = \"train_h2o\")\n",
    "\n",
    "aus_open_2019_features_h2o = aus_open_2019_features %>%\n",
    "  select(contains(\"Diff\")) %>%\n",
    "  as.h2o(destination_frame = \"aus_open_2019_features_h2o\")\n",
    "\n",
    "## Running Auto ML \n",
    "mens_model = h2o.automl(y = \"Winner\",\n",
    "                        training_frame = train_h2o,\n",
    "                        max_runtime_secs = 30,\n",
    "                        max_models = 100,\n",
    "                        stopping_metric = \"logloss\",\n",
    "                        sort_metric = \"logloss\",\n",
    "                        balance_classes = TRUE,\n",
    "                        seed = 183) # Set seed to replicate results - 183 is the most games played in a tennis match (Isner-Mahut)\n",
    "\n",
    "## Predictions on test frame\n",
    "predictions = h2o.predict(mens_model@leader, aus_open_2019_features_h2o) %>%\n",
    "  as.data.frame()\n",
    "\n",
    "aus_open_2019_features$prob_player_1 = predictions$p1\n",
    "aus_open_2019_features$prob_player_2 = predictions$p0\n",
    "\n",
    "h2o.shutdown(prompt = FALSE)"
   ]
  },
  {
   "cell_type": "markdown",
   "metadata": {},
   "source": [
    "Now let's find the best player by taking the mean of the prediction probability by player."
   ]
  },
  {
   "cell_type": "code",
   "execution_count": 18,
   "metadata": {},
   "outputs": [
    {
     "data": {
      "text/html": [
       "<table>\n",
       "<thead><tr><th scope=col>player_1</th><th scope=col>F_Serve_Win_Ratio_Diff</th><th scope=col>F_Return_Win_Ratio_Diff</th><th scope=col>F_Game_Win_Percentage_Diff</th><th scope=col>F_BreakPoints_Per_Game_Diff</th><th scope=col>F_Rank_Diff</th><th scope=col>prob_player_1</th></tr></thead>\n",
       "<tbody>\n",
       "\t<tr><td>Novak Djokovic       </td><td>0.09938629           </td><td>0.06493209           </td><td>0.12807032           </td><td> 0.122720743         </td><td>-62.19685            </td><td>0.8534737            </td></tr>\n",
       "\t<tr><td>Karen Khachanov      </td><td>0.09881624           </td><td>0.06120688           </td><td>0.10496578           </td><td> 0.047438761         </td><td>-52.86614            </td><td>0.8464170            </td></tr>\n",
       "\t<tr><td>Juan Martin del Potro</td><td>0.09757822           </td><td>0.04106598           </td><td>0.08383149           </td><td> 0.058596320         </td><td>-59.39370            </td><td>0.8312761            </td></tr>\n",
       "\t<tr><td>Kei Nishikori        </td><td>0.07754893           </td><td>0.03661099           </td><td>0.09703263           </td><td> 0.026703972         </td><td>-54.71654            </td><td>0.8270370            </td></tr>\n",
       "\t<tr><td>Rafael Nadal         </td><td>0.04518635           </td><td>0.05056569           </td><td>0.07796290           </td><td> 0.081293431         </td><td>-62.25984            </td><td>0.8167632            </td></tr>\n",
       "\t<tr><td>Roger Federer        </td><td>0.04897760           </td><td>0.02459973           </td><td>0.06138622           </td><td> 0.006865307         </td><td>-60.32283            </td><td>0.7970516            </td></tr>\n",
       "\t<tr><td>Marin Cilic          </td><td>0.02559911           </td><td>0.05180771           </td><td>0.07210100           </td><td> 0.087741157         </td><td>-56.55906            </td><td>0.7948708            </td></tr>\n",
       "\t<tr><td>Gilles Simon         </td><td>0.04982984           </td><td>0.07202410           </td><td>0.06021096           </td><td> 0.085637217         </td><td>-33.12598            </td><td>0.7799863            </td></tr>\n",
       "\t<tr><td>Kyle Edmund          </td><td>0.06423516           </td><td>0.01501494           </td><td>0.06259465           </td><td> 0.040987159         </td><td>-49.94488            </td><td>0.7750360            </td></tr>\n",
       "\t<tr><td>Stefanos Tsitsipas   </td><td>0.06238915           </td><td>0.01121271           </td><td>0.05483415           </td><td>-0.020808220         </td><td>-49.08661            </td><td>0.7741831            </td></tr>\n",
       "</tbody>\n",
       "</table>\n"
      ],
      "text/latex": [
       "\\begin{tabular}{r|lllllll}\n",
       " player\\_1 & F\\_Serve\\_Win\\_Ratio\\_Diff & F\\_Return\\_Win\\_Ratio\\_Diff & F\\_Game\\_Win\\_Percentage\\_Diff & F\\_BreakPoints\\_Per\\_Game\\_Diff & F\\_Rank\\_Diff & prob\\_player\\_1\\\\\n",
       "\\hline\n",
       "\t Novak Djokovic        & 0.09938629            & 0.06493209            & 0.12807032            &  0.122720743          & -62.19685             & 0.8534737            \\\\\n",
       "\t Karen Khachanov       & 0.09881624            & 0.06120688            & 0.10496578            &  0.047438761          & -52.86614             & 0.8464170            \\\\\n",
       "\t Juan Martin del Potro & 0.09757822            & 0.04106598            & 0.08383149            &  0.058596320          & -59.39370             & 0.8312761            \\\\\n",
       "\t Kei Nishikori         & 0.07754893            & 0.03661099            & 0.09703263            &  0.026703972          & -54.71654             & 0.8270370            \\\\\n",
       "\t Rafael Nadal          & 0.04518635            & 0.05056569            & 0.07796290            &  0.081293431          & -62.25984             & 0.8167632            \\\\\n",
       "\t Roger Federer         & 0.04897760            & 0.02459973            & 0.06138622            &  0.006865307          & -60.32283             & 0.7970516            \\\\\n",
       "\t Marin Cilic           & 0.02559911            & 0.05180771            & 0.07210100            &  0.087741157          & -56.55906             & 0.7948708            \\\\\n",
       "\t Gilles Simon          & 0.04982984            & 0.07202410            & 0.06021096            &  0.085637217          & -33.12598             & 0.7799863            \\\\\n",
       "\t Kyle Edmund           & 0.06423516            & 0.01501494            & 0.06259465            &  0.040987159          & -49.94488             & 0.7750360            \\\\\n",
       "\t Stefanos Tsitsipas    & 0.06238915            & 0.01121271            & 0.05483415            & -0.020808220          & -49.08661             & 0.7741831            \\\\\n",
       "\\end{tabular}\n"
      ],
      "text/markdown": [
       "\n",
       "player_1 | F_Serve_Win_Ratio_Diff | F_Return_Win_Ratio_Diff | F_Game_Win_Percentage_Diff | F_BreakPoints_Per_Game_Diff | F_Rank_Diff | prob_player_1 | \n",
       "|---|---|---|---|---|---|---|---|---|---|\n",
       "| Novak Djokovic        | 0.09938629            | 0.06493209            | 0.12807032            |  0.122720743          | -62.19685             | 0.8534737             | \n",
       "| Karen Khachanov       | 0.09881624            | 0.06120688            | 0.10496578            |  0.047438761          | -52.86614             | 0.8464170             | \n",
       "| Juan Martin del Potro | 0.09757822            | 0.04106598            | 0.08383149            |  0.058596320          | -59.39370             | 0.8312761             | \n",
       "| Kei Nishikori         | 0.07754893            | 0.03661099            | 0.09703263            |  0.026703972          | -54.71654             | 0.8270370             | \n",
       "| Rafael Nadal          | 0.04518635            | 0.05056569            | 0.07796290            |  0.081293431          | -62.25984             | 0.8167632             | \n",
       "| Roger Federer         | 0.04897760            | 0.02459973            | 0.06138622            |  0.006865307          | -60.32283             | 0.7970516             | \n",
       "| Marin Cilic           | 0.02559911            | 0.05180771            | 0.07210100            |  0.087741157          | -56.55906             | 0.7948708             | \n",
       "| Gilles Simon          | 0.04982984            | 0.07202410            | 0.06021096            |  0.085637217          | -33.12598             | 0.7799863             | \n",
       "| Kyle Edmund           | 0.06423516            | 0.01501494            | 0.06259465            |  0.040987159          | -49.94488             | 0.7750360             | \n",
       "| Stefanos Tsitsipas    | 0.06238915            | 0.01121271            | 0.05483415            | -0.020808220          | -49.08661             | 0.7741831             | \n",
       "\n",
       "\n"
      ],
      "text/plain": [
       "   player_1              F_Serve_Win_Ratio_Diff F_Return_Win_Ratio_Diff\n",
       "1  Novak Djokovic        0.09938629             0.06493209             \n",
       "2  Karen Khachanov       0.09881624             0.06120688             \n",
       "3  Juan Martin del Potro 0.09757822             0.04106598             \n",
       "4  Kei Nishikori         0.07754893             0.03661099             \n",
       "5  Rafael Nadal          0.04518635             0.05056569             \n",
       "6  Roger Federer         0.04897760             0.02459973             \n",
       "7  Marin Cilic           0.02559911             0.05180771             \n",
       "8  Gilles Simon          0.04982984             0.07202410             \n",
       "9  Kyle Edmund           0.06423516             0.01501494             \n",
       "10 Stefanos Tsitsipas    0.06238915             0.01121271             \n",
       "   F_Game_Win_Percentage_Diff F_BreakPoints_Per_Game_Diff F_Rank_Diff\n",
       "1  0.12807032                  0.122720743                -62.19685  \n",
       "2  0.10496578                  0.047438761                -52.86614  \n",
       "3  0.08383149                  0.058596320                -59.39370  \n",
       "4  0.09703263                  0.026703972                -54.71654  \n",
       "5  0.07796290                  0.081293431                -62.25984  \n",
       "6  0.06138622                  0.006865307                -60.32283  \n",
       "7  0.07210100                  0.087741157                -56.55906  \n",
       "8  0.06021096                  0.085637217                -33.12598  \n",
       "9  0.06259465                  0.040987159                -49.94488  \n",
       "10 0.05483415                 -0.020808220                -49.08661  \n",
       "   prob_player_1\n",
       "1  0.8534737    \n",
       "2  0.8464170    \n",
       "3  0.8312761    \n",
       "4  0.8270370    \n",
       "5  0.8167632    \n",
       "6  0.7970516    \n",
       "7  0.7948708    \n",
       "8  0.7799863    \n",
       "9  0.7750360    \n",
       "10 0.7741831    "
      ]
     },
     "metadata": {},
     "output_type": "display_data"
    }
   ],
   "source": [
    "aus_open_2019_features %>% \n",
    "  select(player_1, starts_with(\"F_\"), prob_player_1) %>%\n",
    "  group_by(player_1) %>%\n",
    "  summarise_all(mean) %>%\n",
    "  arrange(desc(prob_player_1)) %>%\n",
    "  head(10)"
   ]
  },
  {
   "cell_type": "markdown",
   "metadata": {},
   "source": [
    "Finally, let's create our submissions file."
   ]
  },
  {
   "cell_type": "code",
   "execution_count": 19,
   "metadata": {},
   "outputs": [],
   "source": [
    "# Create submission df\n",
    "mens_submission = aus_open_2019_features %>%\n",
    "  select(player_1,\n",
    "         player_2,\n",
    "         player_1_win_probability = prob_player_1) # Make sure these columns have the same name\n",
    "\n",
    "\n",
    "# Export to CSV - this is the submission file! Note that this is commented out here\n",
    "# mens_submission %>% write_csv(\"submission/datathon_submission_mens_YOUR-PLAYER-ID.csv\")\n",
    "\n",
    "# You must also submit a womens submission - here it is commented out\n",
    "# womens_submission %>% write_csv(\"submission/datathon_submission_womens_YOUR-PLAYER-ID.csv\")"
   ]
  },
  {
   "cell_type": "code",
   "execution_count": 20,
   "metadata": {},
   "outputs": [
    {
     "data": {
      "text/html": [
       "<table>\n",
       "<thead><tr><th scope=col>player_1</th><th scope=col>player_2</th><th scope=col>player_1_win_probability</th></tr></thead>\n",
       "<tbody>\n",
       "\t<tr><td>Novak Djokovic       </td><td>Rafael Nadal         </td><td>0.6918360            </td></tr>\n",
       "\t<tr><td>Novak Djokovic       </td><td>Roger Federer        </td><td>0.6993151            </td></tr>\n",
       "\t<tr><td>Novak Djokovic       </td><td>Juan Martin del Potro</td><td>0.6013435            </td></tr>\n",
       "\t<tr><td>Novak Djokovic       </td><td>Alexander Zverev     </td><td>0.7820842            </td></tr>\n",
       "\t<tr><td>Novak Djokovic       </td><td>Kevin Anderson       </td><td>0.8093235            </td></tr>\n",
       "\t<tr><td>Novak Djokovic       </td><td>Marin Cilic          </td><td>0.7170031            </td></tr>\n",
       "</tbody>\n",
       "</table>\n"
      ],
      "text/latex": [
       "\\begin{tabular}{r|lll}\n",
       " player\\_1 & player\\_2 & player\\_1\\_win\\_probability\\\\\n",
       "\\hline\n",
       "\t Novak Djokovic        & Rafael Nadal          & 0.6918360            \\\\\n",
       "\t Novak Djokovic        & Roger Federer         & 0.6993151            \\\\\n",
       "\t Novak Djokovic        & Juan Martin del Potro & 0.6013435            \\\\\n",
       "\t Novak Djokovic        & Alexander Zverev      & 0.7820842            \\\\\n",
       "\t Novak Djokovic        & Kevin Anderson        & 0.8093235            \\\\\n",
       "\t Novak Djokovic        & Marin Cilic           & 0.7170031            \\\\\n",
       "\\end{tabular}\n"
      ],
      "text/markdown": [
       "\n",
       "player_1 | player_2 | player_1_win_probability | \n",
       "|---|---|---|---|---|---|\n",
       "| Novak Djokovic        | Rafael Nadal          | 0.6918360             | \n",
       "| Novak Djokovic        | Roger Federer         | 0.6993151             | \n",
       "| Novak Djokovic        | Juan Martin del Potro | 0.6013435             | \n",
       "| Novak Djokovic        | Alexander Zverev      | 0.7820842             | \n",
       "| Novak Djokovic        | Kevin Anderson        | 0.8093235             | \n",
       "| Novak Djokovic        | Marin Cilic           | 0.7170031             | \n",
       "\n",
       "\n"
      ],
      "text/plain": [
       "  player_1       player_2              player_1_win_probability\n",
       "1 Novak Djokovic Rafael Nadal          0.6918360               \n",
       "2 Novak Djokovic Roger Federer         0.6993151               \n",
       "3 Novak Djokovic Juan Martin del Potro 0.6013435               \n",
       "4 Novak Djokovic Alexander Zverev      0.7820842               \n",
       "5 Novak Djokovic Kevin Anderson        0.8093235               \n",
       "6 Novak Djokovic Marin Cilic           0.7170031               "
      ]
     },
     "metadata": {},
     "output_type": "display_data"
    }
   ],
   "source": [
    "mens_submission %>% head()"
   ]
  }
 ],
 "metadata": {
  "kernelspec": {
   "display_name": "R",
   "language": "R",
   "name": "ir"
  },
  "toc": {
   "base_numbering": 1,
   "nav_menu": {},
   "number_sections": true,
   "sideBar": true,
   "skip_h1_title": false,
   "title_cell": "Table of Contents",
   "title_sidebar": "Contents",
   "toc_cell": false,
   "toc_position": {},
   "toc_section_display": true,
   "toc_window_display": true
  },
  "varInspector": {
   "cols": {
    "lenName": 16,
    "lenType": 16,
    "lenVar": 40
   },
   "kernels_config": {
    "python": {
     "delete_cmd_postfix": "",
     "delete_cmd_prefix": "del ",
     "library": "var_list.py",
     "varRefreshCmd": "print(var_dic_list())"
    },
    "r": {
     "delete_cmd_postfix": ") ",
     "delete_cmd_prefix": "rm(",
     "library": "var_list.r",
     "varRefreshCmd": "cat(var_dic_list()) "
    }
   },
   "types_to_exclude": [
    "module",
    "function",
    "builtin_function_or_method",
    "instance",
    "_Feature"
   ],
   "window_display": true
  }
 },
 "nbformat": 4,
 "nbformat_minor": 2
}
